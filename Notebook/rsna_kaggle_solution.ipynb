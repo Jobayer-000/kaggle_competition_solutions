{
 "cells": [
  {
   "cell_type": "code",
   "execution_count": 1,
   "id": "42232117",
   "metadata": {
    "execution": {
     "iopub.execute_input": "2023-02-26T02:41:05.089517Z",
     "iopub.status.busy": "2023-02-26T02:41:05.088253Z",
     "iopub.status.idle": "2023-02-26T02:41:05.092700Z",
     "shell.execute_reply": "2023-02-26T02:41:05.093213Z",
     "shell.execute_reply.started": "2023-02-25T12:08:44.319524Z"
    },
    "id": "Q6Apw0uEHXIr",
    "papermill": {
     "duration": 0.037602,
     "end_time": "2023-02-26T02:41:05.093547",
     "exception": false,
     "start_time": "2023-02-26T02:41:05.055945",
     "status": "completed"
    },
    "tags": []
   },
   "outputs": [],
   "source": [
    "#!pip install tensorflow --upgrade --quiet\n",
    "#!pip install tensorflow_addons\n",
    "#!yes | apt install --allow-change-held-packages libcudnn8=8.1.0.77-1+cuda11.2"
   ]
  },
  {
   "cell_type": "code",
   "execution_count": 2,
   "id": "349e5bfb",
   "metadata": {
    "execution": {
     "iopub.execute_input": "2023-02-26T02:41:05.153059Z",
     "iopub.status.busy": "2023-02-26T02:41:05.152307Z",
     "iopub.status.idle": "2023-02-26T02:41:12.781361Z",
     "shell.execute_reply": "2023-02-26T02:41:12.780599Z",
     "shell.execute_reply.started": "2023-02-25T12:08:44.346820Z"
    },
    "id": "LOc8MEB5HXIw",
    "papermill": {
     "duration": 7.658623,
     "end_time": "2023-02-26T02:41:12.781548",
     "exception": false,
     "start_time": "2023-02-26T02:41:05.122925",
     "status": "completed"
    },
    "tags": []
   },
   "outputs": [],
   "source": [
    "import os\n",
    "import math\n",
    "os.environ['TF_CPP_MIN_LOG_LEVEL'] = '3'\n",
    "import numpy as np\n",
    "import pandas as pd\n",
    "import tensorflow as tf\n",
    "tf.get_logger().setLevel('ERROR')\n",
    "from tensorflow import keras\n",
    "import glob\n",
    "import matplotlib.pyplot as plt\n",
    "import random\n",
    "import gc\n",
    "from sklearn.model_selection import train_test_split\n",
    "from kaggle_datasets import KaggleDatasets"
   ]
  },
  {
   "cell_type": "code",
   "execution_count": 3,
   "id": "25b54219",
   "metadata": {
    "execution": {
     "iopub.execute_input": "2023-02-26T02:41:12.840980Z",
     "iopub.status.busy": "2023-02-26T02:41:12.840190Z",
     "iopub.status.idle": "2023-02-26T02:41:12.977975Z",
     "shell.execute_reply": "2023-02-26T02:41:12.978503Z",
     "shell.execute_reply.started": "2023-02-25T12:08:50.236041Z"
    },
    "papermill": {
     "duration": 0.1698,
     "end_time": "2023-02-26T02:41:12.978742",
     "exception": false,
     "start_time": "2023-02-26T02:41:12.808942",
     "status": "completed"
    },
    "tags": []
   },
   "outputs": [],
   "source": [
    "df = pd.read_csv('/kaggle/input/rsna-breast-cancer-detection/train.csv')"
   ]
  },
  {
   "cell_type": "code",
   "execution_count": 4,
   "id": "ebc56232",
   "metadata": {
    "execution": {
     "iopub.execute_input": "2023-02-26T02:41:13.039250Z",
     "iopub.status.busy": "2023-02-26T02:41:13.038452Z",
     "iopub.status.idle": "2023-02-26T02:41:27.559301Z",
     "shell.execute_reply": "2023-02-26T02:41:27.558533Z",
     "shell.execute_reply.started": "2023-02-25T12:08:50.362051Z"
    },
    "id": "bmiG08RDwc94",
    "outputId": "d53788d7-70ee-4f68-d9ab-666dc6075a15",
    "papermill": {
     "duration": 14.55089,
     "end_time": "2023-02-26T02:41:27.559468",
     "exception": false,
     "start_time": "2023-02-26T02:41:13.008578",
     "status": "completed"
    },
    "tags": []
   },
   "outputs": [
    {
     "name": "stdout",
     "output_type": "stream",
     "text": [
      "Collecting git+https://github.com/leondgarse/keras_cv_attention_models\r\n",
      "  Cloning https://github.com/leondgarse/keras_cv_attention_models to /tmp/pip-req-build-bp24mb8i\r\n",
      "  Running command git clone -q https://github.com/leondgarse/keras_cv_attention_models /tmp/pip-req-build-bp24mb8i\r\n",
      "  Resolved https://github.com/leondgarse/keras_cv_attention_models to commit 2c8112b5ea42b5f35834e1daabfc7a85a1ff4d93\r\n",
      "Requirement already satisfied: tensorflow-addons in /opt/conda/lib/python3.7/site-packages (from keras-cv-attention-models==1.3.10) (0.12.1)\r\n",
      "Requirement already satisfied: tensorflow-datasets in /opt/conda/lib/python3.7/site-packages (from keras-cv-attention-models==1.3.10) (3.0.0)\r\n",
      "Requirement already satisfied: tensorflow in /opt/conda/lib/python3.7/site-packages (from keras-cv-attention-models==1.3.10) (2.4.1)\r\n",
      "Requirement already satisfied: typing-extensions~=3.7.4 in /opt/conda/lib/python3.7/site-packages (from tensorflow->keras-cv-attention-models==1.3.10) (3.7.4.3)\r\n",
      "Requirement already satisfied: numpy~=1.19.2 in /opt/conda/lib/python3.7/site-packages (from tensorflow->keras-cv-attention-models==1.3.10) (1.19.5)\r\n",
      "Requirement already satisfied: google-pasta~=0.2 in /opt/conda/lib/python3.7/site-packages (from tensorflow->keras-cv-attention-models==1.3.10) (0.2.0)\r\n",
      "Requirement already satisfied: wrapt~=1.12.1 in /opt/conda/lib/python3.7/site-packages (from tensorflow->keras-cv-attention-models==1.3.10) (1.12.1)\r\n",
      "Requirement already satisfied: tensorflow-estimator<2.5.0,>=2.4.0 in /opt/conda/lib/python3.7/site-packages (from tensorflow->keras-cv-attention-models==1.3.10) (2.4.0)\r\n",
      "Requirement already satisfied: termcolor~=1.1.0 in /opt/conda/lib/python3.7/site-packages (from tensorflow->keras-cv-attention-models==1.3.10) (1.1.0)\r\n",
      "Requirement already satisfied: grpcio~=1.32.0 in /opt/conda/lib/python3.7/site-packages (from tensorflow->keras-cv-attention-models==1.3.10) (1.32.0)\r\n",
      "Requirement already satisfied: protobuf>=3.9.2 in /opt/conda/lib/python3.7/site-packages (from tensorflow->keras-cv-attention-models==1.3.10) (3.18.0)\r\n",
      "Requirement already satisfied: astunparse~=1.6.3 in /opt/conda/lib/python3.7/site-packages (from tensorflow->keras-cv-attention-models==1.3.10) (1.6.3)\r\n",
      "Requirement already satisfied: tensorboard~=2.4 in /opt/conda/lib/python3.7/site-packages (from tensorflow->keras-cv-attention-models==1.3.10) (2.6.0)\r\n",
      "Requirement already satisfied: six~=1.15.0 in /opt/conda/lib/python3.7/site-packages (from tensorflow->keras-cv-attention-models==1.3.10) (1.15.0)\r\n",
      "Requirement already satisfied: wheel~=0.35 in /opt/conda/lib/python3.7/site-packages (from tensorflow->keras-cv-attention-models==1.3.10) (0.37.0)\r\n",
      "Requirement already satisfied: opt-einsum~=3.3.0 in /opt/conda/lib/python3.7/site-packages (from tensorflow->keras-cv-attention-models==1.3.10) (3.3.0)\r\n",
      "Requirement already satisfied: absl-py~=0.10 in /opt/conda/lib/python3.7/site-packages (from tensorflow->keras-cv-attention-models==1.3.10) (0.12.0)\r\n",
      "Requirement already satisfied: h5py~=2.10.0 in /opt/conda/lib/python3.7/site-packages (from tensorflow->keras-cv-attention-models==1.3.10) (2.10.0)\r\n",
      "Requirement already satisfied: flatbuffers~=1.12.0 in /opt/conda/lib/python3.7/site-packages (from tensorflow->keras-cv-attention-models==1.3.10) (1.12)\r\n",
      "Requirement already satisfied: gast==0.3.3 in /opt/conda/lib/python3.7/site-packages (from tensorflow->keras-cv-attention-models==1.3.10) (0.3.3)\r\n",
      "Requirement already satisfied: keras-preprocessing~=1.1.2 in /opt/conda/lib/python3.7/site-packages (from tensorflow->keras-cv-attention-models==1.3.10) (1.1.2)\r\n",
      "Requirement already satisfied: google-auth-oauthlib<0.5,>=0.4.1 in /opt/conda/lib/python3.7/site-packages (from tensorboard~=2.4->tensorflow->keras-cv-attention-models==1.3.10) (0.4.5)\r\n",
      "Requirement already satisfied: markdown>=2.6.8 in /opt/conda/lib/python3.7/site-packages (from tensorboard~=2.4->tensorflow->keras-cv-attention-models==1.3.10) (3.3.4)\r\n",
      "Requirement already satisfied: tensorboard-data-server<0.7.0,>=0.6.0 in /opt/conda/lib/python3.7/site-packages (from tensorboard~=2.4->tensorflow->keras-cv-attention-models==1.3.10) (0.6.1)\r\n",
      "Requirement already satisfied: tensorboard-plugin-wit>=1.6.0 in /opt/conda/lib/python3.7/site-packages (from tensorboard~=2.4->tensorflow->keras-cv-attention-models==1.3.10) (1.8.0)\r\n",
      "Requirement already satisfied: google-auth<2,>=1.6.3 in /opt/conda/lib/python3.7/site-packages (from tensorboard~=2.4->tensorflow->keras-cv-attention-models==1.3.10) (1.34.0)\r\n",
      "Requirement already satisfied: requests<3,>=2.21.0 in /opt/conda/lib/python3.7/site-packages (from tensorboard~=2.4->tensorflow->keras-cv-attention-models==1.3.10) (2.25.1)\r\n",
      "Requirement already satisfied: setuptools>=41.0.0 in /opt/conda/lib/python3.7/site-packages (from tensorboard~=2.4->tensorflow->keras-cv-attention-models==1.3.10) (57.4.0)\r\n",
      "Requirement already satisfied: werkzeug>=0.11.15 in /opt/conda/lib/python3.7/site-packages (from tensorboard~=2.4->tensorflow->keras-cv-attention-models==1.3.10) (2.0.1)\r\n",
      "Requirement already satisfied: pyasn1-modules>=0.2.1 in /opt/conda/lib/python3.7/site-packages (from google-auth<2,>=1.6.3->tensorboard~=2.4->tensorflow->keras-cv-attention-models==1.3.10) (0.2.7)\r\n",
      "Requirement already satisfied: cachetools<5.0,>=2.0.0 in /opt/conda/lib/python3.7/site-packages (from google-auth<2,>=1.6.3->tensorboard~=2.4->tensorflow->keras-cv-attention-models==1.3.10) (4.2.2)\r\n",
      "Requirement already satisfied: rsa<5,>=3.1.4 in /opt/conda/lib/python3.7/site-packages (from google-auth<2,>=1.6.3->tensorboard~=2.4->tensorflow->keras-cv-attention-models==1.3.10) (4.7.2)\r\n",
      "Requirement already satisfied: requests-oauthlib>=0.7.0 in /opt/conda/lib/python3.7/site-packages (from google-auth-oauthlib<0.5,>=0.4.1->tensorboard~=2.4->tensorflow->keras-cv-attention-models==1.3.10) (1.3.0)\r\n",
      "Requirement already satisfied: importlib-metadata in /opt/conda/lib/python3.7/site-packages (from markdown>=2.6.8->tensorboard~=2.4->tensorflow->keras-cv-attention-models==1.3.10) (3.4.0)\r\n",
      "Requirement already satisfied: pyasn1<0.5.0,>=0.4.6 in /opt/conda/lib/python3.7/site-packages (from pyasn1-modules>=0.2.1->google-auth<2,>=1.6.3->tensorboard~=2.4->tensorflow->keras-cv-attention-models==1.3.10) (0.4.8)\r\n",
      "Requirement already satisfied: urllib3<1.27,>=1.21.1 in /opt/conda/lib/python3.7/site-packages (from requests<3,>=2.21.0->tensorboard~=2.4->tensorflow->keras-cv-attention-models==1.3.10) (1.26.6)\r\n",
      "Requirement already satisfied: idna<3,>=2.5 in /opt/conda/lib/python3.7/site-packages (from requests<3,>=2.21.0->tensorboard~=2.4->tensorflow->keras-cv-attention-models==1.3.10) (2.10)\r\n",
      "Requirement already satisfied: certifi>=2017.4.17 in /opt/conda/lib/python3.7/site-packages (from requests<3,>=2.21.0->tensorboard~=2.4->tensorflow->keras-cv-attention-models==1.3.10) (2021.5.30)\r\n",
      "Requirement already satisfied: chardet<5,>=3.0.2 in /opt/conda/lib/python3.7/site-packages (from requests<3,>=2.21.0->tensorboard~=2.4->tensorflow->keras-cv-attention-models==1.3.10) (4.0.0)\r\n",
      "Requirement already satisfied: oauthlib>=3.0.0 in /opt/conda/lib/python3.7/site-packages (from requests-oauthlib>=0.7.0->google-auth-oauthlib<0.5,>=0.4.1->tensorboard~=2.4->tensorflow->keras-cv-attention-models==1.3.10) (3.1.1)\r\n",
      "Requirement already satisfied: zipp>=0.5 in /opt/conda/lib/python3.7/site-packages (from importlib-metadata->markdown>=2.6.8->tensorboard~=2.4->tensorflow->keras-cv-attention-models==1.3.10) (3.5.0)\r\n",
      "Requirement already satisfied: typeguard>=2.7 in /opt/conda/lib/python3.7/site-packages (from tensorflow-addons->keras-cv-attention-models==1.3.10) (2.12.1)\r\n",
      "Requirement already satisfied: dill in /opt/conda/lib/python3.7/site-packages (from tensorflow-datasets->keras-cv-attention-models==1.3.10) (0.3.4)\r\n",
      "Requirement already satisfied: future in /opt/conda/lib/python3.7/site-packages (from tensorflow-datasets->keras-cv-attention-models==1.3.10) (0.18.2)\r\n",
      "Requirement already satisfied: promise in /opt/conda/lib/python3.7/site-packages (from tensorflow-datasets->keras-cv-attention-models==1.3.10) (2.3)\r\n",
      "Requirement already satisfied: tqdm in /opt/conda/lib/python3.7/site-packages (from tensorflow-datasets->keras-cv-attention-models==1.3.10) (4.62.1)\r\n",
      "Requirement already satisfied: attrs>=18.1.0 in /opt/conda/lib/python3.7/site-packages (from tensorflow-datasets->keras-cv-attention-models==1.3.10) (21.2.0)\r\n",
      "Requirement already satisfied: tensorflow-metadata in /opt/conda/lib/python3.7/site-packages (from tensorflow-datasets->keras-cv-attention-models==1.3.10) (1.2.0)\r\n",
      "Requirement already satisfied: googleapis-common-protos<2,>=1.52.0 in /opt/conda/lib/python3.7/site-packages (from tensorflow-metadata->tensorflow-datasets->keras-cv-attention-models==1.3.10) (1.53.0)\r\n",
      "Building wheels for collected packages: keras-cv-attention-models\r\n",
      "  Building wheel for keras-cv-attention-models (setup.py) ... \u001b[?25l-\b \b\\\b \b|\b \b/\b \bdone\r\n",
      "\u001b[?25h  Created wheel for keras-cv-attention-models: filename=keras_cv_attention_models-1.3.10-py3-none-any.whl size=708553 sha256=97dfdaa27959ed216210faec4bb395aee8bdbe203649f4a44500ad4610a6ad13\r\n",
      "  Stored in directory: /tmp/pip-ephem-wheel-cache-3qzw4dpg/wheels/ec/82/43/aad81de1334b3cae80dccfeed593aa782a17e226c403202b8c\r\n",
      "Successfully built keras-cv-attention-models\r\n",
      "Installing collected packages: keras-cv-attention-models\r\n",
      "Successfully installed keras-cv-attention-models-1.3.10\r\n",
      "\u001b[33mWARNING: Running pip as the 'root' user can result in broken permissions and conflicting behaviour with the system package manager. It is recommended to use a virtual environment instead: https://pip.pypa.io/warnings/venv\u001b[0m\r\n"
     ]
    }
   ],
   "source": [
    "!pip install -U git+https://github.com/leondgarse/keras_cv_attention_models"
   ]
  },
  {
   "cell_type": "code",
   "execution_count": 5,
   "id": "96fb1528",
   "metadata": {
    "execution": {
     "iopub.execute_input": "2023-02-26T02:41:27.632507Z",
     "iopub.status.busy": "2023-02-26T02:41:27.631196Z",
     "iopub.status.idle": "2023-02-26T02:41:27.690386Z",
     "shell.execute_reply": "2023-02-26T02:41:27.689642Z",
     "shell.execute_reply.started": "2023-02-25T12:09:30.022162Z"
    },
    "id": "fHtmCRO3wfLS",
    "papermill": {
     "duration": 0.097352,
     "end_time": "2023-02-26T02:41:27.690558",
     "exception": false,
     "start_time": "2023-02-26T02:41:27.593206",
     "status": "completed"
    },
    "tags": []
   },
   "outputs": [],
   "source": [
    "import keras_cv_attention_models as kmodel"
   ]
  },
  {
   "cell_type": "code",
   "execution_count": 6,
   "id": "42f08638",
   "metadata": {
    "execution": {
     "iopub.execute_input": "2023-02-26T02:41:27.762911Z",
     "iopub.status.busy": "2023-02-26T02:41:27.761556Z",
     "iopub.status.idle": "2023-02-26T02:41:27.765662Z",
     "shell.execute_reply": "2023-02-26T02:41:27.764934Z",
     "shell.execute_reply.started": "2023-02-25T12:09:31.293091Z"
    },
    "id": "pnTTPk7tHXIx",
    "papermill": {
     "duration": 0.042411,
     "end_time": "2023-02-26T02:41:27.765832",
     "exception": false,
     "start_time": "2023-02-26T02:41:27.723421",
     "status": "completed"
    },
    "tags": []
   },
   "outputs": [],
   "source": [
    "keras.mixed_precision.set_global_policy('mixed_bfloat16')"
   ]
  },
  {
   "cell_type": "code",
   "execution_count": 7,
   "id": "428e211a",
   "metadata": {
    "execution": {
     "iopub.execute_input": "2023-02-26T02:41:27.842762Z",
     "iopub.status.busy": "2023-02-26T02:41:27.842025Z",
     "iopub.status.idle": "2023-02-26T02:41:27.997307Z",
     "shell.execute_reply": "2023-02-26T02:41:27.996632Z",
     "shell.execute_reply.started": "2023-02-25T12:09:31.301041Z"
    },
    "id": "pqncoCvzHXIy",
    "papermill": {
     "duration": 0.194562,
     "end_time": "2023-02-26T02:41:27.997460",
     "exception": false,
     "start_time": "2023-02-26T02:41:27.802898",
     "status": "completed"
    },
    "tags": []
   },
   "outputs": [],
   "source": [
    "import tensorflow_addons as tfa"
   ]
  },
  {
   "cell_type": "code",
   "execution_count": 8,
   "id": "dc9e3c3c",
   "metadata": {
    "execution": {
     "iopub.execute_input": "2023-02-26T02:41:28.094405Z",
     "iopub.status.busy": "2023-02-26T02:41:28.093686Z",
     "iopub.status.idle": "2023-02-26T02:41:33.434185Z",
     "shell.execute_reply": "2023-02-26T02:41:33.433081Z",
     "shell.execute_reply.started": "2023-02-25T12:09:31.463763Z"
    },
    "id": "563ZEvlYHXIy",
    "outputId": "6e5fb029-59ef-45eb-b7d6-8df6a6bd8760",
    "papermill": {
     "duration": 5.404059,
     "end_time": "2023-02-26T02:41:33.434372",
     "exception": false,
     "start_time": "2023-02-26T02:41:28.030313",
     "status": "completed"
    },
    "tags": []
   },
   "outputs": [
    {
     "name": "stdout",
     "output_type": "stream",
     "text": [
      "Running on TPU  grpc://10.0.0.2:8470\n",
      "REPLICAS:  8\n"
     ]
    }
   ],
   "source": [
    "try:\n",
    "    tpu = tf.distribute.cluster_resolver.TPUClusterResolver()\n",
    "    print('Running on TPU ', tpu.master())\n",
    "except ValueError:\n",
    "    tpu = None\n",
    "\n",
    "if tpu:\n",
    "    tf.config.experimental_connect_to_cluster(tpu)\n",
    "    tf.tpu.experimental.initialize_tpu_system(tpu)\n",
    "    strategy = tf.distribute.TPUStrategy(tpu)\n",
    "else:\n",
    "    strategy = tf.distribute.get_strategy()\n",
    "\n",
    "AUTO = tf.data.experimental.AUTOTUNE\n",
    "REPLICAS = strategy.num_replicas_in_sync\n",
    "print(\"REPLICAS: \", REPLICAS)"
   ]
  },
  {
   "cell_type": "code",
   "execution_count": 9,
   "id": "af4a5e12",
   "metadata": {
    "execution": {
     "iopub.execute_input": "2023-02-26T02:41:33.512759Z",
     "iopub.status.busy": "2023-02-26T02:41:33.511983Z",
     "iopub.status.idle": "2023-02-26T02:41:33.986848Z",
     "shell.execute_reply": "2023-02-26T02:41:33.986208Z",
     "shell.execute_reply.started": "2023-02-25T12:09:31.482894Z"
    },
    "id": "K308b2i8HXI0",
    "outputId": "a6f74663-217b-4f72-b25f-988e68c1106e",
    "papermill": {
     "duration": 0.52034,
     "end_time": "2023-02-26T02:41:33.987026",
     "exception": false,
     "start_time": "2023-02-26T02:41:33.466686",
     "status": "completed"
    },
    "tags": []
   },
   "outputs": [
    {
     "data": {
      "text/plain": [
       "'gs://kds-3ce147d7c514c0a96038fa646e23bffa738c1e0301c3892ee980e7e6'"
      ]
     },
     "execution_count": 9,
     "metadata": {},
     "output_type": "execute_result"
    }
   ],
   "source": [
    "GCP = KaggleDatasets().get_gcs_path('rsna-breast-cancer-roi-tfrecord-1536x960')\n",
    "files = tf.io.gfile.glob(f'{GCP}/*.tfrec')\n",
    "GCP"
   ]
  },
  {
   "cell_type": "code",
   "execution_count": 10,
   "id": "d491fe0f",
   "metadata": {
    "execution": {
     "iopub.execute_input": "2023-02-26T02:41:34.059769Z",
     "iopub.status.busy": "2023-02-26T02:41:34.058716Z",
     "iopub.status.idle": "2023-02-26T02:41:34.061400Z",
     "shell.execute_reply": "2023-02-26T02:41:34.061925Z",
     "shell.execute_reply.started": "2023-02-25T12:09:32.359034Z"
    },
    "id": "JsIXzLrMHXI3",
    "papermill": {
     "duration": 0.04221,
     "end_time": "2023-02-26T02:41:34.062118",
     "exception": false,
     "start_time": "2023-02-26T02:41:34.019908",
     "status": "completed"
    },
    "tags": []
   },
   "outputs": [],
   "source": [
    "class CFG:\n",
    "    shape = (1536, 960)\n",
    "    seed = 000\n",
    "    num_folds = 4\n",
    "    val_fold = 0.\n",
    "    test_fold = 0.\n",
    "    batch_size = 3 * REPLICAS\n",
    "    image_per_breast = 2\n",
    "    scheduler = 'cosine'\n",
    "    epochs = 20\n",
    "    loss='BCE'\n",
    "    lr_start   = 0.00001\n",
    "    lr_max     = 5e-6 * REPLICAS\n",
    "    wd_ratio   = 0.01\n",
    "    lr_ramp_ep = 0\n",
    "    lr_sus_ep  = 0\n",
    "    lr_decay   = 0.8\n",
    "    rot=20"
   ]
  },
  {
   "cell_type": "code",
   "execution_count": 11,
   "id": "8ce59532",
   "metadata": {
    "execution": {
     "iopub.execute_input": "2023-02-26T02:41:34.135518Z",
     "iopub.status.busy": "2023-02-26T02:41:34.134477Z",
     "iopub.status.idle": "2023-02-26T02:41:34.137704Z",
     "shell.execute_reply": "2023-02-26T02:41:34.137124Z",
     "shell.execute_reply.started": "2023-02-25T12:09:32.369436Z"
    },
    "id": "GEKPxpfTHXI4",
    "papermill": {
     "duration": 0.042144,
     "end_time": "2023-02-26T02:41:34.137860",
     "exception": false,
     "start_time": "2023-02-26T02:41:34.095716",
     "status": "completed"
    },
    "tags": []
   },
   "outputs": [],
   "source": [
    "def seed_everything(seed=CFG.seed):\n",
    "    os.environ['PYTHONHASHSEED'] = str(seed)\n",
    "    random.seed(seed)\n",
    "    np.random.seed(seed)\n",
    "    tf.random.set_seed(seed)\n",
    "\n",
    "seed_everything()"
   ]
  },
  {
   "cell_type": "code",
   "execution_count": 12,
   "id": "a9d0605a",
   "metadata": {
    "execution": {
     "iopub.execute_input": "2023-02-26T02:41:34.208264Z",
     "iopub.status.busy": "2023-02-26T02:41:34.207302Z",
     "iopub.status.idle": "2023-02-26T02:41:34.210831Z",
     "shell.execute_reply": "2023-02-26T02:41:34.210248Z",
     "shell.execute_reply.started": "2023-02-25T12:09:32.380996Z"
    },
    "id": "h7w0B3qKHXI4",
    "papermill": {
     "duration": 0.040945,
     "end_time": "2023-02-26T02:41:34.210985",
     "exception": false,
     "start_time": "2023-02-26T02:41:34.170040",
     "status": "completed"
    },
    "tags": []
   },
   "outputs": [],
   "source": [
    "def undersample_majority(X, y):\n",
    "    # Filter 2/3 of negative samples to upsample positive samples by a factor 3\n",
    "    return y == 1 or tf.random.uniform([]) > 0.66"
   ]
  },
  {
   "cell_type": "code",
   "execution_count": 13,
   "id": "73fd4cc2",
   "metadata": {
    "execution": {
     "iopub.execute_input": "2023-02-26T02:41:34.282009Z",
     "iopub.status.busy": "2023-02-26T02:41:34.281208Z",
     "iopub.status.idle": "2023-02-26T02:41:34.288566Z",
     "shell.execute_reply": "2023-02-26T02:41:34.287692Z",
     "shell.execute_reply.started": "2023-02-25T12:09:32.395086Z"
    },
    "id": "R-OxW6EXHXI5",
    "papermill": {
     "duration": 0.04459,
     "end_time": "2023-02-26T02:41:34.288780",
     "exception": false,
     "start_time": "2023-02-26T02:41:34.244190",
     "status": "completed"
    },
    "tags": []
   },
   "outputs": [],
   "source": [
    "# short Tensorflow randin integer function\n",
    "def tf_rand_int(minval, maxval, dtype=tf.int64):\n",
    "    minval = tf.cast(minval, dtype)\n",
    "    maxval = tf.cast(maxval, dtype)\n",
    "    return tf.random.uniform(shape=(), minval=minval, maxval=maxval, dtype=dtype)\n",
    "\n",
    "# chance of 1 in k\n",
    "def one_in(k):\n",
    "    return 0 == tf_rand_int(0, k)"
   ]
  },
  {
   "cell_type": "code",
   "execution_count": 14,
   "id": "bdf57186",
   "metadata": {
    "execution": {
     "iopub.execute_input": "2023-02-26T02:41:34.375581Z",
     "iopub.status.busy": "2023-02-26T02:41:34.374385Z",
     "iopub.status.idle": "2023-02-26T02:41:34.376639Z",
     "shell.execute_reply": "2023-02-26T02:41:34.377160Z",
     "shell.execute_reply.started": "2023-02-25T12:09:32.408076Z"
    },
    "id": "79-HRz-gK0wt",
    "papermill": {
     "duration": 0.054014,
     "end_time": "2023-02-26T02:41:34.377363",
     "exception": false,
     "start_time": "2023-02-26T02:41:34.323349",
     "status": "completed"
    },
    "tags": []
   },
   "outputs": [],
   "source": [
    "def augment_image(X, y):\n",
    "    images = X['input']\n",
    "    aug_images = []\n",
    "    for i in range(2):\n",
    "      image = images[i]\n",
    "      # Random Brightness\n",
    "      #image = tf.image.random_brightness(image, 0.10)\n",
    "    \n",
    "      # Random Contrast\n",
    "      #image = tf.image.random_contrast(image, 0.90, 1.10)\n",
    "      image = tf.image.random_flip_left_right(image)\n",
    "      image = tf.image.random_flip_up_down(image)\n",
    "      if tf.random.uniform(shape=(),minval=0., maxval=1.0) > 0.9:\n",
    "        noise = tf.cast(tf.random.normal(shape=image.shape, mean=0, stddev=175), image.dtype)\n",
    "        image = noise + image\n",
    "      #image = tf.image.random_jpeg_quality(image, 75, 100)\n",
    "      #ratio = tf.random.uniform([], 0.75, 1.00)\n",
    "      #img_height_crop = tf.cast(ratio * CFG.shape[0], tf.int32)\n",
    "      #img_width_crop = tf.cast(ratio * CFG.shape[1], tf.int32)\n",
    "      # Random offset for crop\n",
    "      #img_height_offset = tf_rand_int(0, CFG.shape[0] - img_height_crop)\n",
    "      #img_width_offset = 0\n",
    "      # Crop And Resize\n",
    "      #image = tf.slice(image, [img_height_offset, img_width_offset, 0], [img_height_crop, img_width_crop, 1])\n",
    "      #image = tf.image.resize(image, CFG.shape, method=tf.image.ResizeMethod.BILINEAR)\n",
    "      # Random JPEG Quality\n",
    "      if tf.random.uniform(shape=(),minval=0., maxval=1.0) > .9:\n",
    "        angle = random.randint(0, CFG.rot)\n",
    "        image = tfa.image.rotate(image, (3.14*angle)/180)\n",
    "      # Random crop image with maximum of 10%\n",
    "      \n",
    "      aug_images.append(image)\n",
    "    if tf.random.uniform(shape=(),minval=0., maxval=1.0) > 0.9:\n",
    "      aug_images = [\n",
    "          [image[:int(CFG.shape[0]/2),:int(CFG.shape[1]/2),:],\n",
    "           image[:int(CFG.shape[0]/2),int(CFG.shape[1]/2):,:],\n",
    "           image[int(CFG.shape[0]/2):,:int(CFG.shape[1]/2),:],\n",
    "           image[int(CFG.shape[0]/2):,int(CFG.shape[1]/2):,:]]\n",
    "           for image in aug_images]\n",
    "      aug_images = [*aug_images[0], *aug_images[1]]\n",
    "      aug_images = [tf.image.random_flip_left_right(image) for image in aug_images]\n",
    "      aug_images = [tf.image.random_flip_up_down(image) for image in aug_images]\n",
    "      random.shuffle(aug_images)\n",
    "      aug_images = [\n",
    "          tf.concat([tf.concat(aug_images[:2], axis=0), tf.concat(aug_images[2:4], axis=0)], axis=1),\n",
    "          tf.concat([tf.concat(aug_images[4:6], axis=0), tf.concat(aug_images[6:8], axis=0)], axis=1)\n",
    "          ]\n",
    "              \n",
    "    images = tf.stack(aug_images, axis=0)\n",
    "    images = tf.clip_by_value(images, 0, 255)\n",
    "    images = tf.cast(images, tf.uint8)\n",
    "    return { 'input': images, 'aux_input': X['aux_input'] }, y"
   ]
  },
  {
   "cell_type": "code",
   "execution_count": 15,
   "id": "89089a0f",
   "metadata": {
    "execution": {
     "iopub.execute_input": "2023-02-26T02:41:34.450062Z",
     "iopub.status.busy": "2023-02-26T02:41:34.449198Z",
     "iopub.status.idle": "2023-02-26T02:41:34.452495Z",
     "shell.execute_reply": "2023-02-26T02:41:34.451823Z",
     "shell.execute_reply.started": "2023-02-25T12:09:32.428655Z"
    },
    "id": "sJlWe5rRHXI6",
    "papermill": {
     "duration": 0.042466,
     "end_time": "2023-02-26T02:41:34.452665",
     "exception": false,
     "start_time": "2023-02-26T02:41:34.410199",
     "status": "completed"
    },
    "tags": []
   },
   "outputs": [],
   "source": [
    "def preprocess(x, y):\n",
    "    image = x['input']\n",
    "    image = tf.repeat(image, repeats=3, axis=3)\n",
    "    image = tf.cast(image, tf.float32)\n",
    "    image = image = tf.keras.applications.imagenet_utils.preprocess_input(image, mode='torch')\n",
    "    #image = image/255.0\n",
    "    return { 'input': image, 'aux_input': x['aux_input'] }, y"
   ]
  },
  {
   "cell_type": "code",
   "execution_count": null,
   "id": "7fe0c350",
   "metadata": {
    "id": "qCdrtGKZxHGo",
    "papermill": {
     "duration": 0.033396,
     "end_time": "2023-02-26T02:41:34.520257",
     "exception": false,
     "start_time": "2023-02-26T02:41:34.486861",
     "status": "completed"
    },
    "tags": []
   },
   "outputs": [],
   "source": []
  },
  {
   "cell_type": "code",
   "execution_count": 16,
   "id": "f0d9aeb8",
   "metadata": {
    "execution": {
     "iopub.execute_input": "2023-02-26T02:41:34.597623Z",
     "iopub.status.busy": "2023-02-26T02:41:34.596546Z",
     "iopub.status.idle": "2023-02-26T02:41:34.608015Z",
     "shell.execute_reply": "2023-02-26T02:41:34.608496Z",
     "shell.execute_reply.started": "2023-02-25T12:09:32.443853Z"
    },
    "id": "lbVEzIsuHXI7",
    "papermill": {
     "duration": 0.055241,
     "end_time": "2023-02-26T02:41:34.608719",
     "exception": false,
     "start_time": "2023-02-26T02:41:34.553478",
     "status": "completed"
    },
    "tags": []
   },
   "outputs": [],
   "source": [
    "AUTO = tf.data.AUTOTUNE\n",
    "def decode_tfrecord(encoded_record):\n",
    "   \n",
    "    feature = {\n",
    "        'patient_id': tf.io.FixedLenSequenceFeature([], dtype=tf.int64),\n",
    "        'image_id': tf.io.FixedLenSequenceFeature([], dtype=tf.int64),\n",
    "        'laterality': tf.io.FixedLenSequenceFeature([], dtype=tf.int64),\n",
    "        'view': tf.io.FixedLenSequenceFeature([], dtype=tf.int64),\n",
    "        'age': tf.io.FixedLenSequenceFeature([], dtype=tf.float32),\n",
    "        'cancer': tf.io.FixedLenSequenceFeature([], dtype=tf.int64),\n",
    "        'biopsy': tf.io.FixedLenSequenceFeature([], dtype=tf.int64),\n",
    "        'invasive': tf.io.FixedLenSequenceFeature([], dtype=tf.int64),\n",
    "        'BIRADS': tf.io.FixedLenSequenceFeature([], dtype=tf.float32),\n",
    "        'density': tf.io.FixedLenSequenceFeature([], dtype=tf.int64),\n",
    "        'machine_id': tf.io.FixedLenSequenceFeature([], dtype=tf.int64),\n",
    "        'difficult_negative_case': tf.io.FixedLenSequenceFeature([], dtype=tf.int64),\n",
    "        'images': tf.io.FixedLenSequenceFeature([], dtype=tf.string)\n",
    "    }\n",
    "    context_dict = {'n_images': tf.io.VarLenFeature(dtype=tf.int64)}\n",
    "    record = tf.io.parse_single_sequence_example(encoded_record, context_features=context_dict,\n",
    "                                                 sequence_features=feature)\n",
    "   \n",
    "    image = tf.stack([tf.io.decode_png(record[1]['images'][i], dtype=tf.uint8) for i in range(CFG.image_per_breast)], axis=0)\n",
    "    #image = tf.image.resize(image, CFG.shape, method=tf.image.ResizeMethod.BILINEAR)\n",
    "    #image = tf.cast(image, tf.uint8)\n",
    "    #image = (image - tf.reduce_min(image)) / (tf.reduce_max(image) - tf.reduce_min(image))\n",
    "    #image = tf.cast(image * 255.0, tf.uint8)\n",
    "    #image = tf.tile(image, (1,1,1,3))\n",
    "    #image = keras.applications.imagenet_utils.preprocess_input(image, mode='torch')\n",
    "    image = tf.reshape(image, (CFG.image_per_breast, *CFG.shape, 1))\n",
    "    #image = tf.io.decode_png(record[1]['image'], out_type=tf.uint16)\n",
    "    density = tf.cast(record[1]['density'][:CFG.image_per_breast], tf.float32)\n",
    "    density = tf.clip_by_value(density, -1., 4.)/10.0\n",
    "    difficulty = tf.cast(record[1]['difficult_negative_case'][:CFG.image_per_breast], tf.float32)\n",
    "    age = record[1]['age'][:CFG.image_per_breast]/100.\n",
    "    \n",
    "    metadata = tf.stack([age, density], axis=0)\n",
    "    return image, tf.reshape(metadata, (CFG.image_per_breast, 2)), tf.cast(record[1]['cancer'][0], tf.float32)#\n",
    "def build_data(files, val=False):\n",
    "    ignore_order = tf.data.Options()\n",
    "    ignore_order.experimental_deterministic = False\n",
    "    ds = tf.data.TFRecordDataset(files, num_parallel_reads=AUTO)\n",
    "    ds = ds.map(decode_tfrecord, num_parallel_calls=AUTO)\n",
    "    ds = ds.map(lambda image, metadata, target:({\"input\":image, \"aux_input\":metadata}, target), num_parallel_calls=AUTO)\n",
    "    if not val:\n",
    "        ds = ds.filter(undersample_majority)\n",
    "        ds = ds.map(augment_image, num_parallel_calls=AUTO)\n",
    "        ds = ds.with_options(ignore_order)\n",
    "        ds = ds.shuffle(1024)\n",
    "        #ds = ds.repeat()\n",
    "    ds = ds.map(preprocess, num_parallel_calls=AUTO)\n",
    "    ds = ds.batch(CFG.batch_size, drop_remainder=not val)\n",
    "    ds = ds.prefetch(AUTO)\n",
    "    return ds"
   ]
  },
  {
   "cell_type": "code",
   "execution_count": 17,
   "id": "970f5f21",
   "metadata": {
    "execution": {
     "iopub.execute_input": "2023-02-26T02:41:34.679415Z",
     "iopub.status.busy": "2023-02-26T02:41:34.678269Z",
     "iopub.status.idle": "2023-02-26T02:41:34.692560Z",
     "shell.execute_reply": "2023-02-26T02:41:34.693094Z",
     "shell.execute_reply.started": "2023-02-25T12:09:32.466396Z"
    },
    "id": "nb3pjhiOHXI8",
    "papermill": {
     "duration": 0.0512,
     "end_time": "2023-02-26T02:41:34.693301",
     "exception": false,
     "start_time": "2023-02-26T02:41:34.642101",
     "status": "completed"
    },
    "tags": []
   },
   "outputs": [],
   "source": [
    "class MultiHeadAttention(keras.layers.Layer):\n",
    "    def __init__(self, embed_dim=768, num_heads=12, causal=True, **kwargs):\n",
    "        super().__init__(**kwargs)\n",
    "        self.embed_dim = embed_dim\n",
    "        self.num_heads = num_heads\n",
    "        self.causal = causal\n",
    "        self.head_dim = self.embed_dim // self.num_heads\n",
    "        self.scale = ((self.head_dim)**-0.5)**0.5\n",
    "        self.in_proj = keras.layers.Dense(self.embed_dim*3)\n",
    "        self.out_proj = keras.layers.Dense(self.embed_dim)\n",
    "\n",
    "    def call(self, hidden_state):\n",
    "        _, tgt_length, embed_dim = hidden_state.shape\n",
    "        qkv = self.in_proj(hidden_state)\n",
    "        qkv = tf.reshape(qkv, [-1, tgt_length, self.num_heads, self.head_dim*3])\n",
    "        query, key, value = tf.split(qkv, 3, axis=-1)\n",
    "        attn_weights = tf.einsum(\"bthc,bshc->bhts\", query*self.scale, key*self.scale)\n",
    "        attn_weights = tf.nn.softmax(attn_weights)\n",
    "        attn_output = tf.einsum(\"bhts,bshc->bthc\", attn_weights, value)\n",
    "        attn_output = tf.reshape(attn_output, (-1, tgt_length, embed_dim))\n",
    "        return self.out_proj(attn_output)\n",
    "\n",
    "class CLIPEncoderLayer(keras.layers.Layer):\n",
    "    def __init__(self, embed_dim, num_heads, **kwargs):\n",
    "        super().__init__(**kwargs)\n",
    "        self.layer_norm1 = keras.layers.LayerNormalization(epsilon=1e-5)\n",
    "        self.attn = MultiHeadAttention(embed_dim, num_heads, causal=True)\n",
    "        self.layer_norm2 = keras.layers.LayerNormalization(epsilon=1e-5)\n",
    "        self.fc1 = keras.layers.Dense(embed_dim * 4)\n",
    "        self.fc2 = keras.layers.Dense(embed_dim)\n",
    "        \n",
    "    def call(self, inputs):\n",
    "        residual = inputs\n",
    "        x = self.layer_norm1(inputs)\n",
    "        x = self.attn(x)\n",
    "        x = residual + x\n",
    "        residual = x\n",
    "        x = self.layer_norm2(x)\n",
    "        x = self.fc1(x)\n",
    "        x = tf.nn.gelu(x)\n",
    "        x = self.fc2(x)\n",
    "        return x + residual"
   ]
  },
  {
   "cell_type": "code",
   "execution_count": 18,
   "id": "fafdf26c",
   "metadata": {
    "execution": {
     "iopub.execute_input": "2023-02-26T02:41:34.770735Z",
     "iopub.status.busy": "2023-02-26T02:41:34.762405Z",
     "iopub.status.idle": "2023-02-26T02:41:34.774142Z",
     "shell.execute_reply": "2023-02-26T02:41:34.773526Z",
     "shell.execute_reply.started": "2023-02-25T12:09:32.485830Z"
    },
    "id": "DBPWa9hFHXJB",
    "papermill": {
     "duration": 0.047933,
     "end_time": "2023-02-26T02:41:34.774303",
     "exception": false,
     "start_time": "2023-02-26T02:41:34.726370",
     "status": "completed"
    },
    "tags": []
   },
   "outputs": [],
   "source": [
    "# tensorflow\n",
    "# Tensorflow custom metric is just a conventional class object\n",
    "class pF1(tf.keras.metrics.Metric):\n",
    "    # Initialize properties\n",
    "    def __init__(self, name='pF1', **kwargs):\n",
    "        super(pF1, self).__init__(name=name, **kwargs)\n",
    "        self.tc = self.add_weight(name='tc', initializer='zeros')\n",
    "        self.tp = self.add_weight(name='tp', initializer='zeros')\n",
    "        self.fp = self.add_weight(name='fp', initializer='zeros')\n",
    "\n",
    "    # Update state called on each batch with true and predicted labels\n",
    "    def update_state(self, y_true, y_pred, sample_weight=None):\n",
    "        self.tc.assign_add(tf.cast(tf.reduce_sum(y_true), tf.float32))\n",
    "        self.tp.assign_add(tf.cast(tf.reduce_sum((y_pred[y_true == 1])), tf.float32))\n",
    "        self.fp.assign_add(tf.cast(tf.reduce_sum((y_pred[y_true == 0])), tf.float32))\n",
    "\n",
    "    # Result function is called to obtain result which is printed in progress bar\n",
    "    def result(self):\n",
    "        if self.tc == 0 or (self.tp + self.fp) == 0:\n",
    "            return 0.0\n",
    "        else:\n",
    "            precision = self.tp / (self.tp + self.fp)\n",
    "            recall = self.tp / (self.tc)\n",
    "            return 2 * (precision * recall) / (precision + recall)\n",
    "\n",
    "    # Reset state is called after each epoch to start fresh each epoch\n",
    "    def reset_state(self):\n",
    "        self.tc.assign(0)\n",
    "        self.tp.assign(0)\n",
    "        self.fp.assign(0)\n",
    "\n"
   ]
  },
  {
   "cell_type": "code",
   "execution_count": 19,
   "id": "084354be",
   "metadata": {
    "execution": {
     "iopub.execute_input": "2023-02-26T02:41:34.851072Z",
     "iopub.status.busy": "2023-02-26T02:41:34.850275Z",
     "iopub.status.idle": "2023-02-26T02:41:34.852535Z",
     "shell.execute_reply": "2023-02-26T02:41:34.853177Z",
     "shell.execute_reply.started": "2023-02-25T12:09:32.502039Z"
    },
    "jupyter": {
     "source_hidden": true
    },
    "papermill": {
     "duration": 0.045009,
     "end_time": "2023-02-26T02:41:34.853378",
     "exception": false,
     "start_time": "2023-02-26T02:41:34.808369",
     "status": "completed"
    },
    "tags": []
   },
   "outputs": [],
   "source": [
    "class ExponentialDecay(keras.optimizers.schedules.LearningRateSchedule):\n",
    "    def __init__(\n",
    "        self,\n",
    "        initial_learning_rate,\n",
    "        decay_steps,\n",
    "        decay_rate,\n",
    "        staircase=False,\n",
    "        name=None,\n",
    "    ):\n",
    "        super().__init__()\n",
    "        self.initial_learning_rate = initial_learning_rate\n",
    "        self.decay_steps = decay_steps\n",
    "        self.decay_rate = decay_rate\n",
    "        self.staircase = staircase\n",
    "        self.name = name\n",
    "\n",
    "    def __call__(self, step):\n",
    "        with tf.name_scope(self.name or \"ExponentialDecay\") as name:\n",
    "            initial_learning_rate = tf.convert_to_tensor(\n",
    "                self.initial_learning_rate, name=\"initial_learning_rate\"\n",
    "            )\n",
    "            dtype = initial_learning_rate.dtype\n",
    "            decay_steps = tf.cast(self.decay_steps, dtype)\n",
    "            decay_rate = tf.cast(self.decay_rate, dtype)\n",
    "\n",
    "            global_step_recomp = tf.cast(step, dtype)\n",
    "            p = global_step_recomp / decay_steps\n",
    "            if self.staircase:\n",
    "                p = tf.floor(p)\n",
    "            return tf.multiply(\n",
    "                initial_learning_rate, tf.pow(decay_rate, p), name=name\n",
    "            )\n"
   ]
  },
  {
   "cell_type": "code",
   "execution_count": 20,
   "id": "4492dea7",
   "metadata": {
    "execution": {
     "iopub.execute_input": "2023-02-26T02:41:34.924261Z",
     "iopub.status.busy": "2023-02-26T02:41:34.923440Z",
     "iopub.status.idle": "2023-02-26T02:41:34.932696Z",
     "shell.execute_reply": "2023-02-26T02:41:34.932112Z",
     "shell.execute_reply.started": "2023-02-25T12:09:32.521337Z"
    },
    "jupyter": {
     "source_hidden": true
    },
    "papermill": {
     "duration": 0.046161,
     "end_time": "2023-02-26T02:41:34.932857",
     "exception": false,
     "start_time": "2023-02-26T02:41:34.886696",
     "status": "completed"
    },
    "tags": []
   },
   "outputs": [],
   "source": [
    "class ExponentialWeightDecay(keras.optimizers.schedules.LearningRateSchedule):\n",
    "    def __init__(\n",
    "        self,\n",
    "        initial_learning_rate,\n",
    "        decay_steps,\n",
    "        decay_rate,\n",
    "        staircase=False,\n",
    "        name=None,\n",
    "    ):\n",
    "        super().__init__()\n",
    "        self.initial_learning_rate = initial_learning_rate\n",
    "        self.decay_steps = decay_steps\n",
    "        self.decay_rate = decay_rate\n",
    "        self.staircase = staircase\n",
    "        self.name = name\n",
    "\n",
    "    def __call__(self, step):\n",
    "        with tf.name_scope(self.name or \"ExponentialDecay\") as name:\n",
    "            initial_learning_rate = tf.convert_to_tensor(\n",
    "                self.initial_learning_rate, name=\"initial_learning_rate\"\n",
    "            )\n",
    "            dtype = initial_learning_rate.dtype\n",
    "            decay_steps = tf.cast(self.decay_steps, dtype)\n",
    "            decay_rate = tf.cast(self.decay_rate, dtype)\n",
    "\n",
    "            global_step_recomp = tf.cast(step, dtype)\n",
    "            p = global_step_recomp / decay_steps\n",
    "            if self.staircase:\n",
    "                p = tf.floor(p)\n",
    "            return tf.multiply(tf.multiply(\n",
    "                initial_learning_rate, tf.pow(decay_rate, p)), CFG.wd_ratio, name=name\n",
    "            )\n"
   ]
  },
  {
   "cell_type": "code",
   "execution_count": 21,
   "id": "9419c6c7",
   "metadata": {
    "execution": {
     "iopub.execute_input": "2023-02-26T02:41:35.010683Z",
     "iopub.status.busy": "2023-02-26T02:41:35.009513Z",
     "iopub.status.idle": "2023-02-26T02:41:35.011821Z",
     "shell.execute_reply": "2023-02-26T02:41:35.012912Z",
     "shell.execute_reply.started": "2023-02-25T12:09:32.541993Z"
    },
    "papermill": {
     "duration": 0.046927,
     "end_time": "2023-02-26T02:41:35.013113",
     "exception": false,
     "start_time": "2023-02-26T02:41:34.966186",
     "status": "completed"
    },
    "tags": []
   },
   "outputs": [],
   "source": [
    "class GeM(tf.keras.layers.Layer):\n",
    "    def __init__(self, p=1., train_p=False):\n",
    "        super().__init__()\n",
    "        if train_p:\n",
    "            self.p = tf.Variable(p)\n",
    "        else:\n",
    "            self.p = p\n",
    "        self.eps = 1e-6\n",
    "\n",
    "    def call(self, inputs: tf.Tensor, **kwargs):\n",
    "        inputs = tf.clip_by_value(inputs, clip_value_min=1e-6, clip_value_max=tf.reduce_max(inputs))\n",
    "        inputs = tf.pow(inputs, tf.cast(self.p, inputs.dtype))\n",
    "        inputs = tf.reduce_mean(inputs, axis=[1, 2], keepdims=False)\n",
    "        inputs = tf.pow(inputs, 1./tf.cast(self.p, inputs.dtype))\n",
    "        return inputs"
   ]
  },
  {
   "cell_type": "code",
   "execution_count": 22,
   "id": "e846acfe",
   "metadata": {
    "execution": {
     "iopub.execute_input": "2023-02-26T02:41:35.091402Z",
     "iopub.status.busy": "2023-02-26T02:41:35.090678Z",
     "iopub.status.idle": "2023-02-26T02:41:35.096208Z",
     "shell.execute_reply": "2023-02-26T02:41:35.096730Z",
     "shell.execute_reply.started": "2023-02-25T12:09:32.559173Z"
    },
    "id": "Ns54vzY7HXI_",
    "papermill": {
     "duration": 0.050158,
     "end_time": "2023-02-26T02:41:35.096934",
     "exception": false,
     "start_time": "2023-02-26T02:41:35.046776",
     "status": "completed"
    },
    "tags": []
   },
   "outputs": [],
   "source": [
    "def build_model(activation=None):\n",
    "    inputs = keras.Input(shape=[CFG.image_per_breast,*CFG.shape, 3],dtype=tf.float32, name=\"input\")\n",
    "    aux_inputs = keras.Input(shape=(1), dtype=tf.float32, name=\"aux_input\")\n",
    "    \n",
    "    backbone = kmodel.convnext.ConvNeXtBase(input_shape=(*CFG.shape,3),\n",
    "                                      pretrained='imagenet21k-ft1k',\n",
    "                                      num_classes=0)\n",
    "    #backbone = kmodel.efficientnet.EfficientNetV2S(input_shape=(*CFG.shape,3),\n",
    "                                     # pretrained='imagenet21k-ft1k',\n",
    "                                      #num_classes=0)\n",
    "    #for layer in backbone.layers[:int(len(backbone.layers)/3)]:\n",
    "      #layer.trainable=False\n",
    "    #backbone = keras.Model(inputs=backbone.inputs,\n",
    "                         #  outputs=backbone.get_layer('stack4_block3_output').output\n",
    "    #)#\n",
    "\n",
    "    transformer = CLIPEncoderLayer(backbone.output.shape[-1], 8)\n",
    "    x = []\n",
    "    for i in range(CFG.image_per_breast):\n",
    "        feature = backbone(inputs[:,i])\n",
    "        #feature = transformer(\n",
    "            #tf.reshape(\n",
    "                #feature,\n",
    "                # (-1, feature.shape[1]*feature.shape[2], feature.shape[-1])\n",
    "                # )\n",
    "           #)\n",
    "        x.append(feature)\n",
    "\n",
    "    x = keras.layers.Concatenate(axis=1)(x)\n",
    "    #x = GeM(train_p=True)(x)\n",
    "    x = keras.layers.GlobalAveragePooling2D()(x)\n",
    "\n",
    "    x = keras.layers.Dropout(.3)(x)\n",
    "    \n",
    "    output = keras.layers.Dense(1, activation='sigmoid', dtype=tf.float32, name='output', use_bias=True)(x)\n",
    "    model = keras.Model(inputs=[inputs, aux_inputs], outputs=output)\n",
    "    \n",
    "    if CFG.loss == 'BCE':\n",
    "            loss = tf.keras.losses.BinaryCrossentropy(from_logits=False)\n",
    "    elif CFG.loss == 'Focal':\n",
    "            loss = tfa.losses.SigmoidFocalCrossEntropy(alpha=0.80, gamma=2.0)\n",
    "    \n",
    "    model.compile(loss=loss, \n",
    "                     optimizer= tfa.optimizers.AdamW(learning_rate=CFG.lr_max,\n",
    "                                                      weight_decay=CFG.lr_max*CFG.wd_ratio,\n",
    "                                                     epsilon=1e-6),\n",
    "                     metrics=[pF1(), \n",
    "                              tfa.metrics.F1Score(num_classes=1, threshold=0.50),\n",
    "                              keras.metrics.Precision(),\n",
    "                              keras.metrics.Recall(),\n",
    "                              keras.metrics.BinaryAccuracy(),\n",
    "                              keras.metrics.AUC(name='auc')],\n",
    "                  #jit_compile=True,\n",
    "                  #steps_per_execution=4\n",
    "                  )\n",
    "    return model"
   ]
  },
  {
   "cell_type": "markdown",
   "id": "bc8adbcc",
   "metadata": {
    "id": "n6Rwbk3BHXJA",
    "papermill": {
     "duration": 0.032357,
     "end_time": "2023-02-26T02:41:35.163266",
     "exception": false,
     "start_time": "2023-02-26T02:41:35.130909",
     "status": "completed"
    },
    "tags": []
   },
   "source": [
    "## PF1 metrics"
   ]
  },
  {
   "cell_type": "markdown",
   "id": "aac2a55e",
   "metadata": {
    "id": "14P2uvAjHXJB",
    "papermill": {
     "duration": 0.032521,
     "end_time": "2023-02-26T02:41:35.228656",
     "exception": false,
     "start_time": "2023-02-26T02:41:35.196135",
     "status": "completed"
    },
    "tags": []
   },
   "source": [
    "## lr callback"
   ]
  },
  {
   "cell_type": "code",
   "execution_count": 23,
   "id": "89d02c1b",
   "metadata": {
    "execution": {
     "iopub.execute_input": "2023-02-26T02:41:35.302223Z",
     "iopub.status.busy": "2023-02-26T02:41:35.301455Z",
     "iopub.status.idle": "2023-02-26T02:41:35.305721Z",
     "shell.execute_reply": "2023-02-26T02:41:35.306244Z",
     "shell.execute_reply.started": "2023-02-25T12:09:32.576224Z"
    },
    "papermill": {
     "duration": 0.045526,
     "end_time": "2023-02-26T02:41:35.306440",
     "exception": false,
     "start_time": "2023-02-26T02:41:35.260914",
     "status": "completed"
    },
    "tags": []
   },
   "outputs": [],
   "source": [
    "def lrfn(current_step, num_warmup_steps, lr_max, num_cycles=0.50, num_training_steps=CFG.epochs):\n",
    "    \n",
    "    if current_step < num_warmup_steps:\n",
    "        return lr_max * 0.50 ** (num_warmup_steps - current_step)\n",
    "    else:\n",
    "        progress = float(current_step - num_warmup_steps) / float(max(1, num_training_steps - num_warmup_steps))\n",
    "\n",
    "        return max(0.0, 0.5 * (1.0 + math.cos(math.pi * float(num_cycles) * 2.0 * progress))) * lr_max"
   ]
  },
  {
   "cell_type": "code",
   "execution_count": 24,
   "id": "c3428d7b",
   "metadata": {
    "execution": {
     "iopub.execute_input": "2023-02-26T02:41:35.380933Z",
     "iopub.status.busy": "2023-02-26T02:41:35.380121Z",
     "iopub.status.idle": "2023-02-26T02:41:35.984304Z",
     "shell.execute_reply": "2023-02-26T02:41:35.984861Z",
     "shell.execute_reply.started": "2023-02-25T12:09:32.591812Z"
    },
    "id": "ZOKzt5PiHXJC",
    "outputId": "a6e5d82e-8301-436f-e005-c53d2577e774",
    "papermill": {
     "duration": 0.645698,
     "end_time": "2023-02-26T02:41:35.985077",
     "exception": false,
     "start_time": "2023-02-26T02:41:35.339379",
     "status": "completed"
    },
    "tags": []
   },
   "outputs": [
    {
     "data": {
      "image/png": "[encoded data removed]",
      "text/plain": [
       "<Figure size 1440x720 with 1 Axes>"
      ]
     },
     "metadata": {
      "needs_background": "light"
     },
     "output_type": "display_data"
    }
   ],
   "source": [
    "def plot_lr_schedule(lr_schedule, epochs):\n",
    "    fig = plt.figure(figsize=(20, 10))\n",
    "    plt.plot([None] + lr_schedule + [None])\n",
    "    # X Labels\n",
    "    x = np.arange(1, epochs + 1)\n",
    "    x_axis_labels = [i if epochs <= 40 or i % 5 == 0 or i == 1 else None for i in range(1, epochs + 1)]\n",
    "    plt.xlim([1, epochs])\n",
    "    plt.xticks(x, x_axis_labels) # set tick step to 1 and let x axis start at 1\n",
    "    \n",
    "    # Increase y-limit for better readability\n",
    "    plt.ylim([0, max(lr_schedule) * 1.1])\n",
    "    \n",
    "    # Title\n",
    "    schedule_info = f'start: {lr_schedule[0]:.1E}, max: {max(lr_schedule):.1E}, final: {lr_schedule[-1]:.1E}'\n",
    "    plt.title(f'Step Learning Rate Schedule, {schedule_info}', size=18, pad=12)\n",
    "    \n",
    "    # Plot Learning Rates\n",
    "    for x, val in enumerate(lr_schedule):\n",
    "        if epochs <= 40 or x % 5 == 0 or x is epochs - 1:\n",
    "            if x < len(lr_schedule) - 1:\n",
    "                if lr_schedule[x - 1] < val:\n",
    "                    ha = 'right'\n",
    "                else:\n",
    "                    ha = 'left'\n",
    "            elif x == 0:\n",
    "                ha = 'right'\n",
    "            else:\n",
    "                ha = 'left'\n",
    "            plt.plot(x + 1, val, 'o', color='black');\n",
    "            offset_y = (max(lr_schedule) - min(lr_schedule)) * 0.02\n",
    "            plt.annotate(f'{val:.1E}', xy=(x + 1, val + offset_y), size=12, ha=ha)\n",
    "    \n",
    "    plt.xlabel('Epoch', size=16, labelpad=5)\n",
    "    plt.ylabel('Learning Rate', size=16, labelpad=5)\n",
    "    plt.grid()\n",
    "    plt.show()\n",
    "\n",
    "# Learning rate for encoder\n",
    "LR_SCHEDULE = [lrfn(step, num_warmup_steps=CFG.lr_ramp_ep, lr_max=CFG.lr_max, num_cycles=0.50) for step in range(CFG.epochs)]\n",
    "plot_lr_schedule(LR_SCHEDULE, epochs=CFG.epochs)"
   ]
  },
  {
   "cell_type": "code",
   "execution_count": 25,
   "id": "ce1d92a5",
   "metadata": {
    "execution": {
     "iopub.execute_input": "2023-02-26T02:41:36.058731Z",
     "iopub.status.busy": "2023-02-26T02:41:36.057988Z",
     "iopub.status.idle": "2023-02-26T02:41:36.064106Z",
     "shell.execute_reply": "2023-02-26T02:41:36.064722Z",
     "shell.execute_reply.started": "2023-02-25T12:09:33.249345Z"
    },
    "id": "4TdVPWn-HXJC",
    "papermill": {
     "duration": 0.044873,
     "end_time": "2023-02-26T02:41:36.064928",
     "exception": false,
     "start_time": "2023-02-26T02:41:36.020055",
     "status": "completed"
    },
    "tags": []
   },
   "outputs": [],
   "source": [
    "class WeightDecayCallback(tf.keras.callbacks.Callback):\n",
    "    def __init__(self, wd_ratio=CFG.wd_ratio):\n",
    "        self.step_counter = 0\n",
    "        self.wd_ratio = wd_ratio\n",
    "    \n",
    "    def on_epoch_begin(self, epoch, logs=None):\n",
    "        model.optimizer.weight_decay = model.optimizer.learning_rate * self.wd_ratio\n",
    "        print(f'learning rate: {model.optimizer.learning_rate.numpy():.2e}, weight decay: {model.optimizer.weight_decay.numpy():.2e}')"
   ]
  },
  {
   "cell_type": "code",
   "execution_count": 26,
   "id": "8df78ecb",
   "metadata": {
    "execution": {
     "iopub.execute_input": "2023-02-26T02:41:36.153308Z",
     "iopub.status.busy": "2023-02-26T02:41:36.151917Z",
     "iopub.status.idle": "2023-02-26T02:41:36.154864Z",
     "shell.execute_reply": "2023-02-26T02:41:36.155400Z",
     "shell.execute_reply.started": "2023-02-25T12:09:33.258166Z"
    },
    "id": "PV6ajeSYHXJH",
    "papermill": {
     "duration": 0.053233,
     "end_time": "2023-02-26T02:41:36.155605",
     "exception": false,
     "start_time": "2023-02-26T02:41:36.102372",
     "status": "completed"
    },
    "tags": []
   },
   "outputs": [],
   "source": [
    "def pfbeta(labels, predictions, beta=1):\n",
    "    y_true_count = 0\n",
    "    ctp = 0\n",
    "    cfp = 0\n",
    "\n",
    "    for idx in range(len(labels)):\n",
    "        prediction = min(max(predictions[idx], 0), 1)\n",
    "        if (labels[idx]):\n",
    "            y_true_count += 1\n",
    "            ctp += prediction\n",
    "        else:\n",
    "            cfp += prediction\n",
    "\n",
    "    beta_squared = beta * beta\n",
    "    c_precision = ctp / (ctp + cfp)\n",
    "    c_recall = ctp / y_true_count\n",
    "    if (c_precision > 0 and c_recall > 0):\n",
    "        result = (1 + beta_squared) * (c_precision * c_recall) / (beta_squared * c_precision + c_recall)\n",
    "        return result\n",
    "    else:\n",
    "        return 0"
   ]
  },
  {
   "cell_type": "code",
   "execution_count": 27,
   "id": "a8d5ba14",
   "metadata": {
    "execution": {
     "iopub.execute_input": "2023-02-26T02:41:36.233953Z",
     "iopub.status.busy": "2023-02-26T02:41:36.233219Z",
     "iopub.status.idle": "2023-02-26T02:41:36.237780Z",
     "shell.execute_reply": "2023-02-26T02:41:36.238329Z",
     "shell.execute_reply.started": "2023-02-25T12:09:33.293141Z"
    },
    "id": "5-pt7s3oHXJC",
    "papermill": {
     "duration": 0.044765,
     "end_time": "2023-02-26T02:41:36.238524",
     "exception": false,
     "start_time": "2023-02-26T02:41:36.193759",
     "status": "completed"
    },
    "tags": []
   },
   "outputs": [],
   "source": [
    "lr_callback = tf.keras.callbacks.LearningRateScheduler(lambda step: LR_SCHEDULE[step], verbose=0)\n"
   ]
  },
  {
   "cell_type": "code",
   "execution_count": 28,
   "id": "c8a78af5",
   "metadata": {
    "execution": {
     "iopub.execute_input": "2023-02-26T02:41:36.322056Z",
     "iopub.status.busy": "2023-02-26T02:41:36.320939Z",
     "iopub.status.idle": "2023-02-26T02:41:36.323466Z",
     "shell.execute_reply": "2023-02-26T02:41:36.324221Z",
     "shell.execute_reply.started": "2023-02-25T12:09:33.309006Z"
    },
    "id": "_Ks8gFFXHXJD",
    "papermill": {
     "duration": 0.04707,
     "end_time": "2023-02-26T02:41:36.324456",
     "exception": false,
     "start_time": "2023-02-26T02:41:36.277386",
     "status": "completed"
    },
    "tags": []
   },
   "outputs": [],
   "source": [
    "tf.config.optimizer.set_jit(True)"
   ]
  },
  {
   "cell_type": "code",
   "execution_count": 29,
   "id": "8ae55bab",
   "metadata": {
    "execution": {
     "iopub.execute_input": "2023-02-26T02:41:36.416179Z",
     "iopub.status.busy": "2023-02-26T02:41:36.415306Z",
     "iopub.status.idle": "2023-02-26T06:05:25.343995Z",
     "shell.execute_reply": "2023-02-26T06:05:25.344796Z"
    },
    "id": "QWUYfMuYHXJD",
    "outputId": "a40b5839-93d1-463d-e497-9089391fc850",
    "papermill": {
     "duration": 12228.983096,
     "end_time": "2023-02-26T06:05:25.345403",
     "exception": true,
     "start_time": "2023-02-26T02:41:36.362307",
     "status": "failed"
    },
    "tags": []
   },
   "outputs": [
    {
     "name": "stdout",
     "output_type": "stream",
     "text": [
      "Downloading data from https://github.com/leondgarse/keras_cv_attention_models/releases/download/convnext/convnext_base_384_imagenet21k-ft1k.h5\n",
      "355221504/355218688 [==============================] - 14s 0us/step\n",
      ">>>> Load pretrained from: /root/.keras/models/convnext_base_384_imagenet21k-ft1k.h5\n",
      "Epoch 1/20\n",
      "262/262 [==============================] - 879s 2s/step - loss: 0.7965 - pF1: 0.0988 - f1_score: 0.0542 - precision: 0.0568 - recall: 0.0618 - binary_accuracy: 0.8841 - auc: 0.4942 - val_loss: 0.4017 - val_pF1: 0.0388 - val_f1_score: 0.0000e+00 - val_precision: 0.0000e+00 - val_recall: 0.0000e+00 - val_binary_accuracy: 0.9799 - val_auc: 0.6256\n",
      "Epoch 2/20\n",
      "262/262 [==============================] - 577s 2s/step - loss: 0.7173 - pF1: 0.0893 - f1_score: 0.0178 - precision: 0.0404 - recall: 0.0115 - binary_accuracy: 0.9284 - auc: 0.4897 - val_loss: 0.3844 - val_pF1: 0.0408 - val_f1_score: 0.0152 - val_precision: 0.0833 - val_recall: 0.0083 - val_binary_accuracy: 0.9782 - val_auc: 0.6839\n",
      "Epoch 3/20\n",
      "262/262 [==============================] - 577s 2s/step - loss: 0.7605 - pF1: 0.1028 - f1_score: 0.0315 - precision: 0.0476 - recall: 0.0245 - binary_accuracy: 0.9036 - auc: 0.5077 - val_loss: 0.3366 - val_pF1: 0.0414 - val_f1_score: 0.0395 - val_precision: 0.0938 - val_recall: 0.0250 - val_binary_accuracy: 0.9755 - val_auc: 0.6566\n",
      "Epoch 4/20\n",
      "262/262 [==============================] - 577s 2s/step - loss: 0.7492 - pF1: 0.1071 - f1_score: 0.0643 - precision: 0.0839 - recall: 0.0531 - binary_accuracy: 0.9019 - auc: 0.5280 - val_loss: 0.1897 - val_pF1: 0.0477 - val_f1_score: 0.0000e+00 - val_precision: 0.0000e+00 - val_recall: 0.0000e+00 - val_binary_accuracy: 0.9795 - val_auc: 0.7654\n",
      "Epoch 5/20\n",
      "262/262 [==============================] - 578s 2s/step - loss: 0.7190 - pF1: 0.1164 - f1_score: 0.1111 - precision: 0.1259 - recall: 0.0998 - binary_accuracy: 0.9007 - auc: 0.5764 - val_loss: 0.1893 - val_pF1: 0.0478 - val_f1_score: 0.0315 - val_precision: 0.2857 - val_recall: 0.0167 - val_binary_accuracy: 0.9794 - val_auc: 0.7454\n",
      "Epoch 6/20\n",
      "262/262 [==============================] - 578s 2s/step - loss: 0.6210 - pF1: 0.1500 - f1_score: 0.2161 - precision: 0.2397 - recall: 0.2028 - binary_accuracy: 0.9171 - auc: 0.7039 - val_loss: 0.1788 - val_pF1: 0.1034 - val_f1_score: 0.2733 - val_precision: 0.2278 - val_recall: 0.3417 - val_binary_accuracy: 0.9634 - val_auc: 0.8136\n",
      "Epoch 7/20\n",
      "262/262 [==============================] - 578s 2s/step - loss: 0.5212 - pF1: 0.2214 - f1_score: 0.3783 - precision: 0.3624 - recall: 0.4156 - binary_accuracy: 0.9211 - auc: 0.7821 - val_loss: 0.1569 - val_pF1: 0.1290 - val_f1_score: 0.3183 - val_precision: 0.2722 - val_recall: 0.3833 - val_binary_accuracy: 0.9669 - val_auc: 0.8500\n",
      "Epoch 8/20\n",
      "262/262 [==============================] - 578s 2s/step - loss: 0.4688 - pF1: 0.2852 - f1_score: 0.4643 - precision: 0.4222 - recall: 0.5220 - binary_accuracy: 0.9250 - auc: 0.8623 - val_loss: 0.2025 - val_pF1: 0.1505 - val_f1_score: 0.2471 - val_precision: 0.1601 - val_recall: 0.5417 - val_binary_accuracy: 0.9335 - val_auc: 0.8684\n",
      "Epoch 9/20\n",
      "262/262 [==============================] - 578s 2s/step - loss: 0.4055 - pF1: 0.3578 - f1_score: 0.5470 - precision: 0.4913 - recall: 0.6195 - binary_accuracy: 0.9340 - auc: 0.8948 - val_loss: 0.2010 - val_pF1: 0.1510 - val_f1_score: 0.2716 - val_precision: 0.1803 - val_recall: 0.5500 - val_binary_accuracy: 0.9406 - val_auc: 0.8603\n",
      "Epoch 10/20\n",
      "262/262 [==============================] - 578s 2s/step - loss: 0.3837 - pF1: 0.3756 - f1_score: 0.5498 - precision: 0.4826 - recall: 0.6413 - binary_accuracy: 0.9331 - auc: 0.9139 - val_loss: 0.1205 - val_pF1: 0.2200 - val_f1_score: 0.3478 - val_precision: 0.2772 - val_recall: 0.4667 - val_binary_accuracy: 0.9648 - val_auc: 0.8556\n",
      "Epoch 11/20\n",
      "262/262 [==============================] - 578s 2s/step - loss: 0.2633 - pF1: 0.4941 - f1_score: 0.6781 - precision: 0.5962 - recall: 0.7874 - binary_accuracy: 0.9538 - auc: 0.9605 - val_loss: 0.0993 - val_pF1: 0.2500 - val_f1_score: 0.3686 - val_precision: 0.3481 - val_recall: 0.3917 - val_binary_accuracy: 0.9730 - val_auc: 0.8383\n",
      "Epoch 12/20\n",
      "262/262 [==============================] - 578s 2s/step - loss: 0.2379 - pF1: 0.5466 - f1_score: 0.7069 - precision: 0.6370 - recall: 0.7977 - binary_accuracy: 0.9570 - auc: 0.9719 - val_loss: 0.1421 - val_pF1: 0.2175 - val_f1_score: 0.2961 - val_precision: 0.2089 - val_recall: 0.5083 - val_binary_accuracy: 0.9513 - val_auc: 0.8604\n",
      "Epoch 13/20\n",
      "262/262 [==============================] - 578s 2s/step - loss: 0.1905 - pF1: 0.6073 - f1_score: 0.7774 - precision: 0.7096 - recall: 0.8599 - binary_accuracy: 0.9690 - auc: 0.9820 - val_loss: 0.1605 - val_pF1: 0.2283 - val_f1_score: 0.3187 - val_precision: 0.2204 - val_recall: 0.5750 - val_binary_accuracy: 0.9505 - val_auc: 0.8619\n",
      "Epoch 14/20\n",
      "262/262 [==============================] - 579s 2s/step - loss: 0.1918 - pF1: 0.6138 - f1_score: 0.7688 - precision: 0.6996 - recall: 0.8537 - binary_accuracy: 0.9673 - auc: 0.9785 - val_loss: 0.0785 - val_pF1: 0.3115 - val_f1_score: 0.4309 - val_precision: 0.6393 - val_recall: 0.3250 - val_binary_accuracy: 0.9827 - val_auc: 0.8186\n",
      "Epoch 15/20\n",
      "262/262 [==============================] - 578s 2s/step - loss: 0.1541 - pF1: 0.6698 - f1_score: 0.8106 - precision: 0.7761 - recall: 0.8508 - binary_accuracy: 0.9751 - auc: 0.9844 - val_loss: 0.0890 - val_pF1: 0.3332 - val_f1_score: 0.3918 - val_precision: 0.5135 - val_recall: 0.3167 - val_binary_accuracy: 0.9802 - val_auc: 0.8014\n",
      "Epoch 16/20\n",
      "262/262 [==============================] - 578s 2s/step - loss: 0.1854 - pF1: 0.6582 - f1_score: 0.7881 - precision: 0.7506 - recall: 0.8397 - binary_accuracy: 0.9722 - auc: 0.9807 - val_loss: 0.0983 - val_pF1: 0.3179 - val_f1_score: 0.4149 - val_precision: 0.4132 - val_recall: 0.4167 - val_binary_accuracy: 0.9763 - val_auc: 0.8164\n",
      "Epoch 17/20\n",
      "262/262 [==============================] - 578s 2s/step - loss: 0.1315 - pF1: 0.6913 - f1_score: 0.8286 - precision: 0.7984 - recall: 0.8620 - binary_accuracy: 0.9784 - auc: 0.9918 - val_loss: 0.0914 - val_pF1: 0.3079 - val_f1_score: 0.4178 - val_precision: 0.4476 - val_recall: 0.3917 - val_binary_accuracy: 0.9780 - val_auc: 0.8111\n",
      "Epoch 18/20\n",
      "262/262 [==============================] - 578s 2s/step - loss: 0.1092 - pF1: 0.7260 - f1_score: 0.8619 - precision: 0.8186 - recall: 0.9105 - binary_accuracy: 0.9808 - auc: 0.9945 - val_loss: 0.0957 - val_pF1: 0.3159 - val_f1_score: 0.4130 - val_precision: 0.4016 - val_recall: 0.4250 - val_binary_accuracy: 0.9757 - val_auc: 0.8197\n",
      "Epoch 19/20\n",
      "262/262 [==============================] - 578s 2s/step - loss: 0.1120 - pF1: 0.7382 - f1_score: 0.8725 - precision: 0.8299 - recall: 0.9213 - binary_accuracy: 0.9830 - auc: 0.9933 - val_loss: 0.0938 - val_pF1: 0.3284 - val_f1_score: 0.4188 - val_precision: 0.4298 - val_recall: 0.4083 - val_binary_accuracy: 0.9772 - val_auc: 0.8159\n",
      "Epoch 20/20\n",
      "262/262 [==============================] - 578s 2s/step - loss: 0.1291 - pF1: 0.7519 - f1_score: 0.8807 - precision: 0.8511 - recall: 0.9143 - binary_accuracy: 0.9844 - auc: 0.9871 - val_loss: 0.0950 - val_pF1: 0.3262 - val_f1_score: 0.4340 - val_precision: 0.4435 - val_recall: 0.4250 - val_binary_accuracy: 0.9777 - val_auc: 0.8148\n",
      ">>>> Load pretrained from: /root/.keras/models/convnext_base_384_imagenet21k-ft1k.h5\n",
      "Epoch 1/20\n"
     ]
    },
    {
     "ename": "ResourceExhaustedError",
     "evalue": "9 root error(s) found.\n  (0) Cancelled: {{function_node __inference_train_function_364965}} RPC cancelled, not running TPU program on device 5\n\t [[{{node cluster_train_function/_execute_5_0}}]]\n  (1) Cancelled: {{function_node __inference_train_function_364965}} RPC cancelled, not running TPU program on device 1\n\t [[{{node cluster_train_function/_execute_1_0}}]]\n  (2) Cancelled: {{function_node __inference_train_function_364965}} RPC cancelled, not running TPU program on device 4\n\t [[{{node cluster_train_function/_execute_4_0}}]]\n  (3) Cancelled: {{function_node __inference_train_function_364965}} RPC cancelled, not running TPU program on device 2\n\t [[{{node cluster_train_function/_execute_2_0}}]]\n  (4) Cancelled: {{function_node __inference_train_function_364965}} RPC cancelled, not running TPU program on device 3\n\t [[{{node cluster_train_function/_execute_3_0}}]]\n  (5) Cancelled: {{function_node __inference_train_function_364965}} RPC cancelled, not running TPU program on device 6\n\t [[{{node cluster_train_function/_execute_6_0}}]]\n  (6) Cancelled: {{function_node __inference_train_function_364965}} RPC cancelled, not running TPU program on device 7\n\t [[{{node cluster_train_function/_execute_7_0}}]]\n  (7) Resource exhausted: {{function_node __inference_train_function_364965}} Attempting to allocate 621.85M. That was not possible. There are 886.77M free. Due to fragmentation, the largest contiguous region of free memory is 520.62M.; (0x0x0_HBM0)\n\t [[{{node cluster_train_function/_execute_0_0}}]]\nHint: If you want to see a list of allocated tensors when OOM happens, add report_tensor_allocations_upon_oom to RunOptions for current allocation info.\n\n\t [[cluster_train_function/_execute_6_0/_75]]\nHint: If you want to see a list of allocated tensors when OOM happens, add report_tensor_allocations_upon_oom to RunOptions for current allocation info.\n\n  (8) Resource exhausted: {{function_node __inference_train_function_364965}} Attempting to allocate 621.85M. That was not possible. There are 886.77M free. Due to fragmentation, the largest contiguous region of free memory is 520.62M.; (0x0x0_HBM0)\n\t [[{{node cluster_train_function/_execute_0_0}}]]\nHint: If you want to see a list of allocated tensors when OOM happens, add report_tensor_allocations_upon_oom to RunOptions for current allocation info.\n\n0 successful operations.\n0 derived errors ignored.",
     "output_type": "error",
     "traceback": [
      "\u001b[0;31m---------------------------------------------------------------------------\u001b[0m",
      "\u001b[0;31mResourceExhaustedError\u001b[0m                    Traceback (most recent call last)",
      "\u001b[0;32m/tmp/ipykernel_21/1867446351.py\u001b[0m in \u001b[0;36m<module>\u001b[0;34m\u001b[0m\n\u001b[1;32m     24\u001b[0m               \u001b[0mcallbacks\u001b[0m\u001b[0;34m=\u001b[0m\u001b[0mcallbacks\u001b[0m\u001b[0;34m,\u001b[0m\u001b[0;34m\u001b[0m\u001b[0;34m\u001b[0m\u001b[0m\n\u001b[1;32m     25\u001b[0m               class_weight={0:1.,\n\u001b[0;32m---> 26\u001b[0;31m                            1:5.}\n\u001b[0m\u001b[1;32m     27\u001b[0m              )\n\u001b[1;32m     28\u001b[0m     \u001b[0;31m#y_true_val = []\u001b[0m\u001b[0;34m\u001b[0m\u001b[0;34m\u001b[0m\u001b[0;34m\u001b[0m\u001b[0m\n",
      "\u001b[0;32m/opt/conda/lib/python3.7/site-packages/tensorflow/python/keras/engine/training.py\u001b[0m in \u001b[0;36mfit\u001b[0;34m(self, x, y, batch_size, epochs, verbose, callbacks, validation_split, validation_data, shuffle, class_weight, sample_weight, initial_epoch, steps_per_epoch, validation_steps, validation_batch_size, validation_freq, max_queue_size, workers, use_multiprocessing)\u001b[0m\n\u001b[1;32m   1100\u001b[0m               \u001b[0mtmp_logs\u001b[0m \u001b[0;34m=\u001b[0m \u001b[0mself\u001b[0m\u001b[0;34m.\u001b[0m\u001b[0mtrain_function\u001b[0m\u001b[0;34m(\u001b[0m\u001b[0miterator\u001b[0m\u001b[0;34m)\u001b[0m\u001b[0;34m\u001b[0m\u001b[0;34m\u001b[0m\u001b[0m\n\u001b[1;32m   1101\u001b[0m               \u001b[0;32mif\u001b[0m \u001b[0mdata_handler\u001b[0m\u001b[0;34m.\u001b[0m\u001b[0mshould_sync\u001b[0m\u001b[0;34m:\u001b[0m\u001b[0;34m\u001b[0m\u001b[0;34m\u001b[0m\u001b[0m\n\u001b[0;32m-> 1102\u001b[0;31m                 \u001b[0mcontext\u001b[0m\u001b[0;34m.\u001b[0m\u001b[0masync_wait\u001b[0m\u001b[0;34m(\u001b[0m\u001b[0;34m)\u001b[0m\u001b[0;34m\u001b[0m\u001b[0;34m\u001b[0m\u001b[0m\n\u001b[0m\u001b[1;32m   1103\u001b[0m               \u001b[0mlogs\u001b[0m \u001b[0;34m=\u001b[0m \u001b[0mtmp_logs\u001b[0m  \u001b[0;31m# No error, now safe to assign to logs.\u001b[0m\u001b[0;34m\u001b[0m\u001b[0;34m\u001b[0m\u001b[0m\n\u001b[1;32m   1104\u001b[0m               \u001b[0mend_step\u001b[0m \u001b[0;34m=\u001b[0m \u001b[0mstep\u001b[0m \u001b[0;34m+\u001b[0m \u001b[0mdata_handler\u001b[0m\u001b[0;34m.\u001b[0m\u001b[0mstep_increment\u001b[0m\u001b[0;34m\u001b[0m\u001b[0;34m\u001b[0m\u001b[0m\n",
      "\u001b[0;32m/opt/conda/lib/python3.7/site-packages/tensorflow/python/eager/context.py\u001b[0m in \u001b[0;36masync_wait\u001b[0;34m()\u001b[0m\n\u001b[1;32m   2328\u001b[0m   \u001b[0man\u001b[0m \u001b[0merror\u001b[0m \u001b[0mstate\u001b[0m\u001b[0;34m.\u001b[0m\u001b[0;34m\u001b[0m\u001b[0;34m\u001b[0m\u001b[0m\n\u001b[1;32m   2329\u001b[0m   \"\"\"\n\u001b[0;32m-> 2330\u001b[0;31m   \u001b[0mcontext\u001b[0m\u001b[0;34m(\u001b[0m\u001b[0;34m)\u001b[0m\u001b[0;34m.\u001b[0m\u001b[0msync_executors\u001b[0m\u001b[0;34m(\u001b[0m\u001b[0;34m)\u001b[0m\u001b[0;34m\u001b[0m\u001b[0;34m\u001b[0m\u001b[0m\n\u001b[0m\u001b[1;32m   2331\u001b[0m \u001b[0;34m\u001b[0m\u001b[0m\n\u001b[1;32m   2332\u001b[0m \u001b[0;34m\u001b[0m\u001b[0m\n",
      "\u001b[0;32m/opt/conda/lib/python3.7/site-packages/tensorflow/python/eager/context.py\u001b[0m in \u001b[0;36msync_executors\u001b[0;34m(self)\u001b[0m\n\u001b[1;32m    643\u001b[0m     \"\"\"\n\u001b[1;32m    644\u001b[0m     \u001b[0;32mif\u001b[0m \u001b[0mself\u001b[0m\u001b[0;34m.\u001b[0m\u001b[0m_context_handle\u001b[0m\u001b[0;34m:\u001b[0m\u001b[0;34m\u001b[0m\u001b[0;34m\u001b[0m\u001b[0m\n\u001b[0;32m--> 645\u001b[0;31m       \u001b[0mpywrap_tfe\u001b[0m\u001b[0;34m.\u001b[0m\u001b[0mTFE_ContextSyncExecutors\u001b[0m\u001b[0;34m(\u001b[0m\u001b[0mself\u001b[0m\u001b[0;34m.\u001b[0m\u001b[0m_context_handle\u001b[0m\u001b[0;34m)\u001b[0m\u001b[0;34m\u001b[0m\u001b[0;34m\u001b[0m\u001b[0m\n\u001b[0m\u001b[1;32m    646\u001b[0m     \u001b[0;32melse\u001b[0m\u001b[0;34m:\u001b[0m\u001b[0;34m\u001b[0m\u001b[0;34m\u001b[0m\u001b[0m\n\u001b[1;32m    647\u001b[0m       \u001b[0;32mraise\u001b[0m \u001b[0mValueError\u001b[0m\u001b[0;34m(\u001b[0m\u001b[0;34m\"Context is not initialized.\"\u001b[0m\u001b[0;34m)\u001b[0m\u001b[0;34m\u001b[0m\u001b[0;34m\u001b[0m\u001b[0m\n",
      "\u001b[0;31mResourceExhaustedError\u001b[0m: 9 root error(s) found.\n  (0) Cancelled: {{function_node __inference_train_function_364965}} RPC cancelled, not running TPU program on device 5\n\t [[{{node cluster_train_function/_execute_5_0}}]]\n  (1) Cancelled: {{function_node __inference_train_function_364965}} RPC cancelled, not running TPU program on device 1\n\t [[{{node cluster_train_function/_execute_1_0}}]]\n  (2) Cancelled: {{function_node __inference_train_function_364965}} RPC cancelled, not running TPU program on device 4\n\t [[{{node cluster_train_function/_execute_4_0}}]]\n  (3) Cancelled: {{function_node __inference_train_function_364965}} RPC cancelled, not running TPU program on device 2\n\t [[{{node cluster_train_function/_execute_2_0}}]]\n  (4) Cancelled: {{function_node __inference_train_function_364965}} RPC cancelled, not running TPU program on device 3\n\t [[{{node cluster_train_function/_execute_3_0}}]]\n  (5) Cancelled: {{function_node __inference_train_function_364965}} RPC cancelled, not running TPU program on device 6\n\t [[{{node cluster_train_function/_execute_6_0}}]]\n  (6) Cancelled: {{function_node __inference_train_function_364965}} RPC cancelled, not running TPU program on device 7\n\t [[{{node cluster_train_function/_execute_7_0}}]]\n  (7) Resource exhausted: {{function_node __inference_train_function_364965}} Attempting to allocate 621.85M. That was not possible. There are 886.77M free. Due to fragmentation, the largest contiguous region of free memory is 520.62M.; (0x0x0_HBM0)\n\t [[{{node cluster_train_function/_execute_0_0}}]]\nHint: If you want to see a list of allocated tensors when OOM happens, add report_tensor_allocations_upon_oom to RunOptions for current allocation info.\n\n\t [[cluster_train_function/_execute_6_0/_75]]\nHint: If you want to see a list of allocated tensors when OOM happens, add report_tensor_allocations_upon_oom to RunOptions for current allocation info.\n\n  (8) Resource exhausted: {{function_node __inference_train_function_364965}} Attempting to allocate 621.85M. That was not possible. There are 886.77M free. Due to fragmentation, the largest contiguous region of free memory is 520.62M.; (0x0x0_HBM0)\n\t [[{{node cluster_train_function/_execute_0_0}}]]\nHint: If you want to see a list of allocated tensors when OOM happens, add report_tensor_allocations_upon_oom to RunOptions for current allocation info.\n\n0 successful operations.\n0 derived errors ignored."
     ]
    }
   ],
   "source": [
    "pf1_by_threshold = []\n",
    "thresholds = np.arange(0, 1.01, 0.01)\n",
    "for fold in range(1, CFG.num_folds):\n",
    "    train_files = [file for file in files if eval(file.split('/')[-1].split('_')[1])%4. not in [fold]]\n",
    "    val_files = [file for file in files if eval(file.split('/')[-1].split('_')[1])%4.== fold]\n",
    "    \n",
    "    train_ds = build_data(train_files)\n",
    "    val_ds = build_data(val_files, val=True)\n",
    "    #break  \n",
    "    keras.backend.clear_session()\n",
    "    gc.collect()\n",
    "    with strategy.scope():\n",
    "        model = build_model(activation='relu')\n",
    "    #break\n",
    "    checkpoint_cb = keras.callbacks.ModelCheckpoint(f'convnetxt_tiny_rsna_weights_fold{fold}.h5',\n",
    "                                monitor='val_pF1',\n",
    "                                save_best_only=True,\n",
    "                                save_weights_only=True,\n",
    "                                mode='max')\n",
    "    callbacks = [lr_callback, checkpoint_cb]\n",
    "    model.fit(train_ds, \n",
    "              validation_data=val_ds, \n",
    "              epochs=CFG.epochs,\n",
    "              callbacks=callbacks,\n",
    "              class_weight={0:1.,\n",
    "                           1:5.}\n",
    "             )\n",
    "    #y_true_val = []\n",
    "    #for i in val_ds:\n",
    "       # y_true_val.append(i[-1])\n",
    "\n",
    "    #y_true_val =  tf.concat(y_true_val, axis=0)\n",
    "    #y_pred_val = model.predict(val_ds)\n",
    "    #for t in thresholds:\n",
    "    # Compute pF1 for each threshold\n",
    "       # pf1_by_threshold.append(\n",
    "        #    pfbeta(y_true_val, y_pred_val > t)\n",
    "        #)\n",
    "    \n",
    "    "
   ]
  },
  {
   "cell_type": "code",
   "execution_count": null,
   "id": "9176ab3e",
   "metadata": {
    "papermill": {
     "duration": null,
     "end_time": null,
     "exception": null,
     "start_time": null,
     "status": "pending"
    },
    "tags": []
   },
   "outputs": [],
   "source": [
    "model.save(f'convnext_tiny_rsna.h5', include_optimizer=False)"
   ]
  },
  {
   "cell_type": "code",
   "execution_count": null,
   "id": "1639950d",
   "metadata": {
    "papermill": {
     "duration": null,
     "end_time": null,
     "exception": null,
     "start_time": null,
     "status": "pending"
    },
    "tags": []
   },
   "outputs": [],
   "source": [
    "!cp /kaggle/input/rsna-bcd-convnetxt-tiny/convnetxt_tiny_rsna_weights_fold0.h5 /kaggle/working/"
   ]
  }
 ],
 "metadata": {
  "kernelspec": {
   "display_name": "Python 3",
   "language": "python",
   "name": "python3"
  },
  "language_info": {
   "codemirror_mode": {
    "name": "ipython",
    "version": 3
   },
   "file_extension": ".py",
   "mimetype": "text/x-python",
   "name": "python",
   "nbconvert_exporter": "python",
   "pygments_lexer": "ipython3",
   "version": "3.7.10"
  },
  "papermill": {
   "default_parameters": {},
   "duration": 12273.965597,
   "end_time": "2023-02-26T06:05:29.920166",
   "environment_variables": {},
   "exception": true,
   "input_path": "__notebook__.ipynb",
   "output_path": "__notebook__.ipynb",
   "parameters": {},
   "start_time": "2023-02-26T02:40:55.954569",
   "version": "2.3.3"
  }
 },
 "nbformat": 4,
 "nbformat_minor": 5
}
